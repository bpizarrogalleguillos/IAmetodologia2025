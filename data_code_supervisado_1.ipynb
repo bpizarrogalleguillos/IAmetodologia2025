{
  "nbformat": 4,
  "nbformat_minor": 0,
  "metadata": {
    "colab": {
      "provenance": [],
      "authorship_tag": "ABX9TyMjO7vmqI3FNni6F4p0iu+o",
      "include_colab_link": true
    },
    "kernelspec": {
      "name": "python3",
      "display_name": "Python 3"
    },
    "language_info": {
      "name": "python"
    }
  },
  "cells": [
    {
      "cell_type": "markdown",
      "metadata": {
        "id": "view-in-github",
        "colab_type": "text"
      },
      "source": [
        "<a href=\"https://colab.research.google.com/github/bpizarrogalleguillos/IAmetodologia2025/blob/main/data_code_supervisado_1.ipynb\" target=\"_parent\"><img src=\"https://colab.research.google.com/assets/colab-badge.svg\" alt=\"Open In Colab\"/></a>"
      ]
    },
    {
      "cell_type": "code",
      "execution_count": 1,
      "metadata": {
        "id": "yEtmrhgZes-l"
      },
      "outputs": [],
      "source": [
        "import pandas as pd\n",
        "import numpy as np\n",
        "import matplotlib.pyplot as plt\n",
        "import seaborn as sns\n",
        "from sklearn.model_selection import train_test_split\n",
        "from sklearn.ensemble import RandomForestClassifier\n",
        "from sklearn.metrics import confusion_matrix, accuracy_score, classification_report"
      ]
    },
    {
      "cell_type": "code",
      "source": [
        "#@title 📊 Crear un dataset clínico simulado\n",
        "# Simulación de datos clínicos de pacientes\n",
        "np.random.seed(42)\n",
        "n = 300\n",
        "\n",
        "# Simular fiebre primero\n",
        "fiebre = np.random.choice([0, 1], size=n, p=[0.3, 0.7])\n",
        "\n",
        "# Leucocitosis más alta si hay fiebre\n",
        "leucocitosis = np.random.normal(loc=9500 + 3000*fiebre, scale=1500, size=n).astype(int)\n",
        "\n",
        "# PCR más alta si hay fiebre y leucocitosis alta\n",
        "pcr = 10 + 0.002 * leucocitosis + 10 * fiebre + np.random.normal(0, 5, size=n)\n",
        "pcr = np.round(pcr, 1)\n",
        "\n",
        "# Simular otras variables clínicas y de imagen\n",
        "sexo = np.random.choice(['M', 'F'], size=n)\n",
        "tos = np.random.choice([0, 1], size=n, p=[0.4, 0.6])\n",
        "infiltrado_rx = np.random.choice([0, 1], size=n, p=[0.5, 0.5])\n",
        "engrosamiento_parietal = np.random.choice([0, 1], size=n, p=[0.7, 0.3])\n",
        "foco_condensacion = np.random.choice([0, 1], size=n, p=[0.6, 0.4])\n",
        "patron_intersticial = np.random.choice([0, 1], size=n, p=[0.65, 0.35])\n",
        "derrame_pleural = np.random.choice([0, 1], size=n, p=[0.8, 0.2])\n",
        "broncograma_aereo = np.random.choice([0, 1], size=n, p=[0.7, 0.3])\n",
        "cruza_cisuras = np.random.choice([0, 1], size=n, p=[0.85, 0.15])\n",
        "edad = np.random.randint(18, 90, size=n)\n",
        "\n",
        "# Crear el DataFrame\n",
        "data = pd.DataFrame({\n",
        "    'edad': edad,\n",
        "    'sexo': sexo,\n",
        "    'fiebre': fiebre,\n",
        "    'tos': tos,\n",
        "    'infiltrado_rx': infiltrado_rx,\n",
        "    'engrosamiento_parietal': engrosamiento_parietal,\n",
        "    'foco_condensacion': foco_condensacion,\n",
        "    'patron_intersticial': patron_intersticial,\n",
        "    'derrame_pleural': derrame_pleural,\n",
        "    'broncograma_aereo': broncograma_aereo,\n",
        "    'cruza_cisuras': cruza_cisuras,\n",
        "    'leucocitosis': leucocitosis,\n",
        "    'pcr': pcr\n",
        "})\n",
        "\n",
        "# Diagnóstico de neumonía más influenciado por fiebre, leucocitosis, pcr, condensación, tos y broncograma\n",
        "# Diagnóstico de neumonía con mayor peso para foco de condensación\n",
        "prob_neumonia = (\n",
        "    0.05 +\n",
        "    0.2 * data['fiebre'] +\n",
        "    0.2 * (data['leucocitosis'] > 12000).astype(int) +\n",
        "    0.2 * (data['pcr'] > 30).astype(int) +\n",
        "    0.25 * data['foco_condensacion'] +  # antes 0.15\n",
        "    0.15 * data['tos'] +\n",
        "    0.15 * data['broncograma_aereo']\n",
        ")\n",
        "prob_neumonia = np.clip(prob_neumonia, 0, 0.95)\n",
        "data['diagnostico_neumonia'] = np.random.binomial(1, prob_neumonia)\n",
        "\n",
        "# Ingreso a UCI\n",
        "prob_uci = (\n",
        "    0.05 +\n",
        "    0.3 * data['diagnostico_neumonia'] +\n",
        "    0.2 * (data['edad'] > 70).astype(int) +\n",
        "    0.2 * (data['pcr'] > 40).astype(int) +\n",
        "    0.2 * data['derrame_pleural'] +\n",
        "    0.1 * (data['leucocitosis'] > 14000).astype(int)\n",
        ")\n",
        "prob_uci = np.clip(prob_uci, 0, 0.9)\n",
        "data['ingreso_uci'] = np.random.binomial(1, prob_uci)\n",
        "\n",
        "# Intubación\n",
        "prob_intubacion = (\n",
        "    0.03 +\n",
        "    0.4 * data['ingreso_uci'] +\n",
        "    0.2 * data['diagnostico_neumonia'] +\n",
        "    0.2 * data['broncograma_aereo'] +\n",
        "    0.1 * (data['edad'] > 75).astype(int)\n",
        ")\n",
        "prob_intubacion = np.clip(prob_intubacion, 0, 0.8)\n",
        "data['intubacion'] = np.random.binomial(1, prob_intubacion)\n",
        "\n",
        "# Mortalidad\n",
        "prob_mortalidad = (\n",
        "    0.02 +\n",
        "    0.3 * data['intubacion'] +\n",
        "    0.2 * data['ingreso_uci'] +\n",
        "    0.2 * (data['edad'] > 80).astype(int) +\n",
        "    0.2 * (data['pcr'] > 50).astype(int)\n",
        ")\n",
        "prob_mortalidad = np.clip(prob_mortalidad, 0, 0.6)\n",
        "data['mortalidad'] = np.random.binomial(1, prob_mortalidad)\n",
        "\n",
        "# Mostrar primeras filas\n",
        "data.head()\n"
      ],
      "metadata": {
        "id": "W_LLriine9H0"
      },
      "execution_count": null,
      "outputs": []
    },
    {
      "cell_type": "code",
      "source": [
        "data.to_csv('data.csv', index=False)"
      ],
      "metadata": {
        "id": "RUbXQIRyfCTK"
      },
      "execution_count": null,
      "outputs": []
    }
  ]
}